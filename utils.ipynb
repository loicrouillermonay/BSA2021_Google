{
 "cells": [
  {
   "cell_type": "code",
   "execution_count": 40,
   "metadata": {},
   "outputs": [],
   "source": [
    "import pandas as pd"
   ]
  },
  {
   "cell_type": "markdown",
   "metadata": {},
   "source": [
    "# Load data"
   ]
  },
  {
   "cell_type": "code",
   "execution_count": 86,
   "metadata": {},
   "outputs": [],
   "source": [
    "data_google = pd.read_excel('./data/Data French difficulty.xls', sheet_name='Google')\n",
    "data_amazon = pd.read_excel('./data/Data French difficulty.xls', sheet_name='Amazon')\n",
    "data_tesla = pd.read_excel('./data/Data French difficulty.xls', sheet_name='Tesla')\n",
    "data_orange = pd.read_excel('./data/Data French difficulty.xls', sheet_name='Orange')\n",
    "data_rolex = pd.read_excel('./data/Data French difficulty.xls', sheet_name='Rolex')\n",
    "data_samsung = pd.read_excel('./data/Data French difficulty.xls', sheet_name='Samsung')\n",
    "data_sbb = pd.read_excel('./data/Data French difficulty.xls', sheet_name='SBB')\n",
    "data_swisscom = pd.read_excel('./data/Data French difficulty.xls', sheet_name='Swisscom')\n",
    "data_ubs = pd.read_excel('./data/Data French difficulty.xls', sheet_name='UBS')"
   ]
  },
  {
   "cell_type": "markdown",
   "metadata": {},
   "source": [
    "# Team Google data as Train & Validation"
   ]
  },
  {
   "cell_type": "code",
   "execution_count": 87,
   "metadata": {},
   "outputs": [],
   "source": [
    "train_google_a1 = data_google[data_google['Difficulty'] == 'A1'].sample(frac = 0.9)\n",
    "validation_google_a1 = data_google[data_google['Difficulty'] == 'A1'].drop(train_google_a1.index)\n",
    "\n",
    "train_google_a2 = data_google[data_google['Difficulty'] == 'A2'].sample(frac = 0.9)\n",
    "validation_google_a2 = data_google[data_google['Difficulty'] == 'A2'].drop(train_google_a2.index)\n",
    "\n",
    "train_google_b1 = data_google[data_google['Difficulty'] == 'B1'].sample(frac = 0.9)\n",
    "validation_google_b1 = data_google[data_google['Difficulty'] == 'B1'].drop(train_google_b1.index)\n",
    "\n",
    "train_google_b2 = data_google[data_google['Difficulty'] == 'B2'].sample(frac = 0.9)\n",
    "validation_google_b2 = data_google[data_google['Difficulty'] == 'B2'].drop(train_google_b2.index)\n",
    "\n",
    "train_google_c1 = data_google[data_google['Difficulty'] == 'C1'].sample(frac = 0.9)\n",
    "validation_google_c1 = data_google[data_google['Difficulty'] == 'C1'].drop(train_google_c1.index)\n",
    "\n",
    "train_google_c2 = data_google[data_google['Difficulty'] == 'C2'].sample(frac = 0.9)\n",
    "validation_google_c2 = data_google[data_google['Difficulty'] == 'C2'].drop(train_google_c2.index)"
   ]
  },
  {
   "cell_type": "code",
   "execution_count": 88,
   "metadata": {},
   "outputs": [],
   "source": [
    "full_train_google = pd.concat([train_google_a1, train_google_a2, train_google_b1, train_google_b2, train_google_c1, train_google_c2])\n",
    "full_validation_google = pd.concat([validation_google_a1, validation_google_a2, validation_google_b1, validation_google_b2, validation_google_c1, validation_google_c2])"
   ]
  },
  {
   "cell_type": "code",
   "execution_count": 89,
   "metadata": {},
   "outputs": [
    {
     "data": {
      "text/plain": [
       "6"
      ]
     },
     "execution_count": 89,
     "metadata": {},
     "output_type": "execute_result"
    }
   ],
   "source": [
    "full_validation_google.Difficulty.nunique()"
   ]
  },
  {
   "cell_type": "code",
   "execution_count": 92,
   "metadata": {},
   "outputs": [],
   "source": [
    "full_validation_google.Text = full_validation_google.Text.apply(lambda x: '\"' + x + '\"')\n",
    "full_train_google.Text = full_train_google.Text.apply(lambda x: '\"' + x + '\"')"
   ]
  },
  {
   "cell_type": "code",
   "execution_count": 91,
   "metadata": {},
   "outputs": [
    {
     "data": {
      "text/html": [
       "<div>\n",
       "<style scoped>\n",
       "    .dataframe tbody tr th:only-of-type {\n",
       "        vertical-align: middle;\n",
       "    }\n",
       "\n",
       "    .dataframe tbody tr th {\n",
       "        vertical-align: top;\n",
       "    }\n",
       "\n",
       "    .dataframe thead th {\n",
       "        text-align: right;\n",
       "    }\n",
       "</style>\n",
       "<table border=\"1\" class=\"dataframe\">\n",
       "  <thead>\n",
       "    <tr style=\"text-align: right;\">\n",
       "      <th></th>\n",
       "      <th>Text</th>\n",
       "      <th>Difficulty</th>\n",
       "    </tr>\n",
       "  </thead>\n",
       "  <tbody>\n",
       "    <tr>\n",
       "      <th>14</th>\n",
       "      <td>\"Réservez vos billets dans le bureau 127 de l’...</td>\n",
       "      <td>A1</td>\n",
       "    </tr>\n",
       "    <tr>\n",
       "      <th>16</th>\n",
       "      <td>\"j’espère vous avoir près de moi pour une joli...</td>\n",
       "      <td>A1</td>\n",
       "    </tr>\n",
       "    <tr>\n",
       "      <th>19</th>\n",
       "      <td>\"Et après, on peut prendre un bain dans la pis...</td>\n",
       "      <td>A1</td>\n",
       "    </tr>\n",
       "    <tr>\n",
       "      <th>29</th>\n",
       "      <td>\"L’école organise un festival de musique le 21...</td>\n",
       "      <td>A1</td>\n",
       "    </tr>\n",
       "    <tr>\n",
       "      <th>45</th>\n",
       "      <td>\"On va manger des glaces et des bonbons.\"</td>\n",
       "      <td>A1</td>\n",
       "    </tr>\n",
       "    <tr>\n",
       "      <th>...</th>\n",
       "      <td>...</td>\n",
       "      <td>...</td>\n",
       "    </tr>\n",
       "    <tr>\n",
       "      <th>983</th>\n",
       "      <td>\"La Fondation La Main à la pâte a été créée en...</td>\n",
       "      <td>C2</td>\n",
       "    </tr>\n",
       "    <tr>\n",
       "      <th>998</th>\n",
       "      <td>\"En attendant, des petites formations ont été ...</td>\n",
       "      <td>C2</td>\n",
       "    </tr>\n",
       "    <tr>\n",
       "      <th>1000</th>\n",
       "      <td>\"Notre pays a intérêt à développer la culture ...</td>\n",
       "      <td>C2</td>\n",
       "    </tr>\n",
       "    <tr>\n",
       "      <th>1004</th>\n",
       "      <td>\"Une machine, ça se contrôle, ça obéit à des i...</td>\n",
       "      <td>C2</td>\n",
       "    </tr>\n",
       "    <tr>\n",
       "      <th>1008</th>\n",
       "      <td>\"Un enseignement scolaire pour créer des liens...</td>\n",
       "      <td>C2</td>\n",
       "    </tr>\n",
       "  </tbody>\n",
       "</table>\n",
       "<p>102 rows × 2 columns</p>\n",
       "</div>"
      ],
      "text/plain": [
       "                                                   Text Difficulty\n",
       "14    \"Réservez vos billets dans le bureau 127 de l’...         A1\n",
       "16    \"j’espère vous avoir près de moi pour une joli...         A1\n",
       "19    \"Et après, on peut prendre un bain dans la pis...         A1\n",
       "29    \"L’école organise un festival de musique le 21...         A1\n",
       "45            \"On va manger des glaces et des bonbons.\"         A1\n",
       "...                                                 ...        ...\n",
       "983   \"La Fondation La Main à la pâte a été créée en...         C2\n",
       "998   \"En attendant, des petites formations ont été ...         C2\n",
       "1000  \"Notre pays a intérêt à développer la culture ...         C2\n",
       "1004  \"Une machine, ça se contrôle, ça obéit à des i...         C2\n",
       "1008  \"Un enseignement scolaire pour créer des liens...         C2\n",
       "\n",
       "[102 rows x 2 columns]"
      ]
     },
     "execution_count": 91,
     "metadata": {},
     "output_type": "execute_result"
    }
   ],
   "source": [
    "full_validation_google"
   ]
  },
  {
   "cell_type": "code",
   "execution_count": 5,
   "metadata": {},
   "outputs": [],
   "source": [
    "full_train_google.to_csv('./data/train-dataset.csv', index=False)\n",
    "full_validation_google.to_csv('./data/validation-dataset.csv', index=False)"
   ]
  },
  {
   "cell_type": "markdown",
   "metadata": {},
   "source": [
    "# Other Teams as Test"
   ]
  },
  {
   "cell_type": "code",
   "execution_count": 42,
   "metadata": {},
   "outputs": [],
   "source": [
    "data_amazon = data_amazon[['Phrases', 'Type (Aleks)']]\n",
    "data_amazon = data_amazon.rename(columns={\"Phrases\": \"Text\", \"Type (Aleks)\": \"Difficulty\"})\n",
    "\n",
    "data_rolex = data_rolex[['Text', 'A0 Difficulty']]\n",
    "data_rolex = data_rolex.rename(columns={\"A0 Difficulty\": \"Difficulty\"})\n",
    "\n",
    "data_swisscom = data_swisscom[['Texte ', 'Difficulty']]\n",
    "data_swisscom = data_swisscom.rename(columns={\"Texte \": \"Text\"})\n",
    "\n",
    "data_tesla = data_tesla[['Text', 'Difficulty']]\n",
    "data_orange = data_orange[['Text', 'Difficulty']]\n",
    "data_rolex = data_rolex[['Text', 'Difficulty']]\n",
    "data_samsung = data_samsung[['Text', 'Difficulty']]\n",
    "data_sbb = data_sbb[['Text', 'Difficulty']]\n",
    "data_ubs = data_ubs[['Text', 'Difficulty']]"
   ]
  },
  {
   "cell_type": "code",
   "execution_count": 43,
   "metadata": {},
   "outputs": [],
   "source": [
    "dataset_test = pd.concat([data_amazon, data_rolex, data_swisscom, data_tesla, data_orange, data_rolex, data_samsung, data_sbb, data_ubs])"
   ]
  },
  {
   "cell_type": "code",
   "execution_count": 51,
   "metadata": {},
   "outputs": [],
   "source": [
    "dataset_test = dataset_test.dropna()\n",
    "dataset_test = dataset_test.drop(dataset_test[dataset_test.Difficulty == 'BW'].index)\n",
    "dataset_test = dataset_test.reset_index(drop=True)\n",
    "dataset_test.Difficulty = dataset_test.Difficulty.replace(' B1', 'B1')"
   ]
  },
  {
   "cell_type": "code",
   "execution_count": 52,
   "metadata": {},
   "outputs": [
    {
     "data": {
      "text/plain": [
       "6"
      ]
     },
     "execution_count": 52,
     "metadata": {},
     "output_type": "execute_result"
    }
   ],
   "source": [
    "dataset_test.Difficulty.nunique()"
   ]
  },
  {
   "cell_type": "code",
   "execution_count": 68,
   "metadata": {
    "collapsed": true
   },
   "outputs": [
    {
     "ename": "ModuleNotFoundError",
     "evalue": "No module named 'xlwt'",
     "output_type": "error",
     "traceback": [
      "\u001b[0;31m---------------------------------------------------------------------------\u001b[0m",
      "\u001b[0;31mModuleNotFoundError\u001b[0m                       Traceback (most recent call last)",
      "\u001b[0;32m<ipython-input-68-5b71fc4e4f22>\u001b[0m in \u001b[0;36m<module>\u001b[0;34m\u001b[0m\n\u001b[0;32m----> 1\u001b[0;31m \u001b[0mdataset_test\u001b[0m\u001b[0;34m.\u001b[0m\u001b[0mto_excel\u001b[0m\u001b[0;34m(\u001b[0m\u001b[0;34m'./data/test-dataset.xls'\u001b[0m\u001b[0;34m,\u001b[0m \u001b[0msheet_name\u001b[0m\u001b[0;34m=\u001b[0m\u001b[0;34m'Sheet_name_1'\u001b[0m\u001b[0;34m)\u001b[0m\u001b[0;34m\u001b[0m\u001b[0;34m\u001b[0m\u001b[0m\n\u001b[0m",
      "\u001b[0;32m~/opt/miniconda3/lib/python3.8/site-packages/pandas/core/generic.py\u001b[0m in \u001b[0;36mto_excel\u001b[0;34m(self, excel_writer, sheet_name, na_rep, float_format, columns, header, index, index_label, startrow, startcol, engine, merge_cells, encoding, inf_rep, verbose, freeze_panes)\u001b[0m\n\u001b[1;32m   2024\u001b[0m             \u001b[0minf_rep\u001b[0m\u001b[0;34m=\u001b[0m\u001b[0minf_rep\u001b[0m\u001b[0;34m,\u001b[0m\u001b[0;34m\u001b[0m\u001b[0;34m\u001b[0m\u001b[0m\n\u001b[1;32m   2025\u001b[0m         )\n\u001b[0;32m-> 2026\u001b[0;31m         formatter.write(\n\u001b[0m\u001b[1;32m   2027\u001b[0m             \u001b[0mexcel_writer\u001b[0m\u001b[0;34m,\u001b[0m\u001b[0;34m\u001b[0m\u001b[0;34m\u001b[0m\u001b[0m\n\u001b[1;32m   2028\u001b[0m             \u001b[0msheet_name\u001b[0m\u001b[0;34m=\u001b[0m\u001b[0msheet_name\u001b[0m\u001b[0;34m,\u001b[0m\u001b[0;34m\u001b[0m\u001b[0;34m\u001b[0m\u001b[0m\n",
      "\u001b[0;32m~/opt/miniconda3/lib/python3.8/site-packages/pandas/io/formats/excel.py\u001b[0m in \u001b[0;36mwrite\u001b[0;34m(self, writer, sheet_name, startrow, startcol, freeze_panes, engine)\u001b[0m\n\u001b[1;32m    728\u001b[0m             \u001b[0mneed_save\u001b[0m \u001b[0;34m=\u001b[0m \u001b[0;32mFalse\u001b[0m\u001b[0;34m\u001b[0m\u001b[0;34m\u001b[0m\u001b[0m\n\u001b[1;32m    729\u001b[0m         \u001b[0;32melse\u001b[0m\u001b[0;34m:\u001b[0m\u001b[0;34m\u001b[0m\u001b[0;34m\u001b[0m\u001b[0m\n\u001b[0;32m--> 730\u001b[0;31m             \u001b[0mwriter\u001b[0m \u001b[0;34m=\u001b[0m \u001b[0mExcelWriter\u001b[0m\u001b[0;34m(\u001b[0m\u001b[0mstringify_path\u001b[0m\u001b[0;34m(\u001b[0m\u001b[0mwriter\u001b[0m\u001b[0;34m)\u001b[0m\u001b[0;34m,\u001b[0m \u001b[0mengine\u001b[0m\u001b[0;34m=\u001b[0m\u001b[0mengine\u001b[0m\u001b[0;34m)\u001b[0m\u001b[0;34m\u001b[0m\u001b[0;34m\u001b[0m\u001b[0m\n\u001b[0m\u001b[1;32m    731\u001b[0m             \u001b[0mneed_save\u001b[0m \u001b[0;34m=\u001b[0m \u001b[0;32mTrue\u001b[0m\u001b[0;34m\u001b[0m\u001b[0;34m\u001b[0m\u001b[0m\n\u001b[1;32m    732\u001b[0m \u001b[0;34m\u001b[0m\u001b[0m\n",
      "\u001b[0;32m~/opt/miniconda3/lib/python3.8/site-packages/pandas/io/excel/_xlwt.py\u001b[0m in \u001b[0;36m__init__\u001b[0;34m(self, path, engine, encoding, mode, **engine_kwargs)\u001b[0m\n\u001b[1;32m     11\u001b[0m     \u001b[0;32mdef\u001b[0m \u001b[0m__init__\u001b[0m\u001b[0;34m(\u001b[0m\u001b[0mself\u001b[0m\u001b[0;34m,\u001b[0m \u001b[0mpath\u001b[0m\u001b[0;34m,\u001b[0m \u001b[0mengine\u001b[0m\u001b[0;34m=\u001b[0m\u001b[0;32mNone\u001b[0m\u001b[0;34m,\u001b[0m \u001b[0mencoding\u001b[0m\u001b[0;34m=\u001b[0m\u001b[0;32mNone\u001b[0m\u001b[0;34m,\u001b[0m \u001b[0mmode\u001b[0m\u001b[0;34m=\u001b[0m\u001b[0;34m\"w\"\u001b[0m\u001b[0;34m,\u001b[0m \u001b[0;34m**\u001b[0m\u001b[0mengine_kwargs\u001b[0m\u001b[0;34m)\u001b[0m\u001b[0;34m:\u001b[0m\u001b[0;34m\u001b[0m\u001b[0;34m\u001b[0m\u001b[0m\n\u001b[1;32m     12\u001b[0m         \u001b[0;31m# Use the xlwt module as the Excel writer.\u001b[0m\u001b[0;34m\u001b[0m\u001b[0;34m\u001b[0m\u001b[0;34m\u001b[0m\u001b[0m\n\u001b[0;32m---> 13\u001b[0;31m         \u001b[0;32mimport\u001b[0m \u001b[0mxlwt\u001b[0m\u001b[0;34m\u001b[0m\u001b[0;34m\u001b[0m\u001b[0m\n\u001b[0m\u001b[1;32m     14\u001b[0m \u001b[0;34m\u001b[0m\u001b[0m\n\u001b[1;32m     15\u001b[0m         \u001b[0mengine_kwargs\u001b[0m\u001b[0;34m[\u001b[0m\u001b[0;34m\"engine\"\u001b[0m\u001b[0;34m]\u001b[0m \u001b[0;34m=\u001b[0m \u001b[0mengine\u001b[0m\u001b[0;34m\u001b[0m\u001b[0;34m\u001b[0m\u001b[0m\n",
      "\u001b[0;31mModuleNotFoundError\u001b[0m: No module named 'xlwt'"
     ]
    }
   ],
   "source": [
    "dataset_test.to_csv('./data/test-dataset.csv', index=False)"
   ]
  },
  {
   "cell_type": "code",
   "execution_count": null,
   "metadata": {},
   "outputs": [],
   "source": []
  }
 ],
 "metadata": {
  "kernelspec": {
   "display_name": "Python 3",
   "language": "python",
   "name": "python3"
  },
  "language_info": {
   "codemirror_mode": {
    "name": "ipython",
    "version": 3
   },
   "file_extension": ".py",
   "mimetype": "text/x-python",
   "name": "python",
   "nbconvert_exporter": "python",
   "pygments_lexer": "ipython3",
   "version": "3.8.5"
  }
 },
 "nbformat": 4,
 "nbformat_minor": 4
}
