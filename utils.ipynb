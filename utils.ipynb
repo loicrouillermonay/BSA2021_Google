{
 "cells": [
  {
   "cell_type": "code",
   "execution_count": 1,
   "metadata": {},
   "outputs": [],
   "source": [
    "import pandas as pd"
   ]
  },
  {
   "cell_type": "markdown",
   "metadata": {},
   "source": [
    "# Load data"
   ]
  },
  {
   "cell_type": "code",
   "execution_count": 2,
   "metadata": {},
   "outputs": [],
   "source": [
    "data_google = pd.read_excel('./data/Data French difficulty.xls', sheet_name='Google')\n",
    "data_amazon = pd.read_excel('./data/Data French difficulty.xls', sheet_name='Amazon')\n",
    "data_tesla = pd.read_excel('./data/Data French difficulty.xls', sheet_name='Tesla')\n",
    "data_orange = pd.read_excel('./data/Data French difficulty.xls', sheet_name='Orange')\n",
    "data_rolex = pd.read_excel('./data/Data French difficulty.xls', sheet_name='Rolex')\n",
    "data_samsung = pd.read_excel('./data/Data French difficulty.xls', sheet_name='Samsung')\n",
    "data_sbb = pd.read_excel('./data/Data French difficulty.xls', sheet_name='SBB')\n",
    "data_swisscom = pd.read_excel('./data/Data French difficulty.xls', sheet_name='Swisscom')\n",
    "data_ubs = pd.read_excel('./data/Data French difficulty.xls', sheet_name='UBS')"
   ]
  },
  {
   "cell_type": "markdown",
   "metadata": {},
   "source": [
    "# Team Google data as Train & Validation"
   ]
  },
  {
   "cell_type": "code",
   "execution_count": 3,
   "metadata": {},
   "outputs": [],
   "source": [
    "train_google_a1 = data_google[data_google['Difficulty'] == 'A1'].sample(frac = 0.9)\n",
    "validation_google_a1 = data_google[data_google['Difficulty'] == 'A1'].drop(train_google_a1.index)\n",
    "\n",
    "train_google_a2 = data_google[data_google['Difficulty'] == 'A2'].sample(frac = 0.9)\n",
    "validation_google_a2 = data_google[data_google['Difficulty'] == 'A2'].drop(train_google_a2.index)\n",
    "\n",
    "train_google_b1 = data_google[data_google['Difficulty'] == 'B1'].sample(frac = 0.9)\n",
    "validation_google_b1 = data_google[data_google['Difficulty'] == 'B1'].drop(train_google_b1.index)\n",
    "\n",
    "train_google_b2 = data_google[data_google['Difficulty'] == 'B2'].sample(frac = 0.9)\n",
    "validation_google_b2 = data_google[data_google['Difficulty'] == 'B2'].drop(train_google_b2.index)\n",
    "\n",
    "train_google_c1 = data_google[data_google['Difficulty'] == 'C1'].sample(frac = 0.9)\n",
    "validation_google_c1 = data_google[data_google['Difficulty'] == 'C1'].drop(train_google_c1.index)\n",
    "\n",
    "train_google_c2 = data_google[data_google['Difficulty'] == 'C2'].sample(frac = 0.9)\n",
    "validation_google_c2 = data_google[data_google['Difficulty'] == 'C2'].drop(train_google_c2.index)"
   ]
  },
  {
   "cell_type": "code",
   "execution_count": 4,
   "metadata": {},
   "outputs": [],
   "source": [
    "full_train_google = pd.concat([train_google_a1, train_google_a2, train_google_b1, train_google_b2, train_google_c1, train_google_c2])\n",
    "full_validation_google = pd.concat([validation_google_a1, validation_google_a2, validation_google_b1, validation_google_b2, validation_google_c1, validation_google_c2])"
   ]
  },
  {
   "cell_type": "code",
   "execution_count": 5,
   "metadata": {},
   "outputs": [],
   "source": [
    "full_train_google.to_csv('./data/train-dataset.csv', index=False)\n",
    "full_validation_google.to_csv('./data/validation-dataset.csv', index=False)"
   ]
  },
  {
   "cell_type": "markdown",
   "metadata": {},
   "source": [
    "# Other Teams as Test"
   ]
  },
  {
   "cell_type": "code",
   "execution_count": 6,
   "metadata": {},
   "outputs": [],
   "source": [
    "data_amazon = data_amazon[['Phrases', 'Type (Aleks)']]\n",
    "data_amazon = data_amazon.rename(columns={\"Phrases\": \"Text\", \"Type (Aleks)\": \"Difficulty\"})\n",
    "\n",
    "data_rolex = data_rolex[['Text', 'A0 Difficulty']]\n",
    "data_rolex = data_rolex.rename(columns={\"A0 Difficulty\": \"Difficulty\"})\n",
    "\n",
    "data_swisscom = data_swisscom[['Texte ', 'Difficulty']]\n",
    "data_swisscom = data_swisscom.rename(columns={\"Texte \": \"Text\"})\n",
    "\n",
    "data_tesla = data_tesla[['Text', 'Difficulty']]\n",
    "data_orange = data_orange[['Text', 'Difficulty']]\n",
    "data_rolex = data_rolex[['Text', 'Difficulty']]\n",
    "data_samsung = data_samsung[['Text', 'Difficulty']]\n",
    "data_sbb = data_sbb[['Text', 'Difficulty']]\n",
    "data_ubs = data_ubs[['Text', 'Difficulty']]"
   ]
  },
  {
   "cell_type": "code",
   "execution_count": 7,
   "metadata": {},
   "outputs": [],
   "source": [
    "dataset_test = pd.concat([data_amazon, data_rolex, data_swisscom, data_tesla, data_orange, data_rolex, data_samsung, data_sbb, data_ubs])"
   ]
  },
  {
   "cell_type": "code",
   "execution_count": 18,
   "metadata": {},
   "outputs": [
    {
     "data": {
      "text/html": [
       "<div>\n",
       "<style scoped>\n",
       "    .dataframe tbody tr th:only-of-type {\n",
       "        vertical-align: middle;\n",
       "    }\n",
       "\n",
       "    .dataframe tbody tr th {\n",
       "        vertical-align: top;\n",
       "    }\n",
       "\n",
       "    .dataframe thead th {\n",
       "        text-align: right;\n",
       "    }\n",
       "</style>\n",
       "<table border=\"1\" class=\"dataframe\">\n",
       "  <thead>\n",
       "    <tr style=\"text-align: right;\">\n",
       "      <th></th>\n",
       "      <th>index</th>\n",
       "      <th>Text</th>\n",
       "      <th>Difficulty</th>\n",
       "    </tr>\n",
       "  </thead>\n",
       "  <tbody>\n",
       "    <tr>\n",
       "      <th>0</th>\n",
       "      <td>0</td>\n",
       "      <td>La formation s'achèvera par un contrôle pour s...</td>\n",
       "      <td>B2</td>\n",
       "    </tr>\n",
       "    <tr>\n",
       "      <th>1</th>\n",
       "      <td>1</td>\n",
       "      <td>Des sanctions administratives et des ordonnanc...</td>\n",
       "      <td>C1</td>\n",
       "    </tr>\n",
       "    <tr>\n",
       "      <th>2</th>\n",
       "      <td>2</td>\n",
       "      <td>Le canidé, d'un âge avancé, a été bien malgré ...</td>\n",
       "      <td>C1</td>\n",
       "    </tr>\n",
       "    <tr>\n",
       "      <th>3</th>\n",
       "      <td>3</td>\n",
       "      <td>Tout savoir avant d’adopter un chat.</td>\n",
       "      <td>A2</td>\n",
       "    </tr>\n",
       "    <tr>\n",
       "      <th>4</th>\n",
       "      <td>4</td>\n",
       "      <td>Le chat, le nouveau « meilleur ami de l'homme ».</td>\n",
       "      <td>A2</td>\n",
       "    </tr>\n",
       "    <tr>\n",
       "      <th>...</th>\n",
       "      <td>...</td>\n",
       "      <td>...</td>\n",
       "      <td>...</td>\n",
       "    </tr>\n",
       "    <tr>\n",
       "      <th>8173</th>\n",
       "      <td>994</td>\n",
       "      <td>La vieille acquiesça de la tête, sous sa grand...</td>\n",
       "      <td>C2</td>\n",
       "    </tr>\n",
       "    <tr>\n",
       "      <th>8174</th>\n",
       "      <td>995</td>\n",
       "      <td>Il fallait qu’il débitât les nouvelles apprise...</td>\n",
       "      <td>C2</td>\n",
       "    </tr>\n",
       "    <tr>\n",
       "      <th>8175</th>\n",
       "      <td>996</td>\n",
       "      <td>Vous eussiez dit deux éclairs bleuâtres, parei...</td>\n",
       "      <td>C2</td>\n",
       "    </tr>\n",
       "    <tr>\n",
       "      <th>8176</th>\n",
       "      <td>997</td>\n",
       "      <td>Elle dénoua le ruban qui attachait le manche d...</td>\n",
       "      <td>C2</td>\n",
       "    </tr>\n",
       "    <tr>\n",
       "      <th>8177</th>\n",
       "      <td>998</td>\n",
       "      <td>Il y avait dans sa voix, dans son regard, dans...</td>\n",
       "      <td>C2</td>\n",
       "    </tr>\n",
       "  </tbody>\n",
       "</table>\n",
       "<p>8178 rows × 3 columns</p>\n",
       "</div>"
      ],
      "text/plain": [
       "      index                                               Text Difficulty\n",
       "0         0  La formation s'achèvera par un contrôle pour s...         B2\n",
       "1         1  Des sanctions administratives et des ordonnanc...         C1\n",
       "2         2  Le canidé, d'un âge avancé, a été bien malgré ...         C1\n",
       "3         3               Tout savoir avant d’adopter un chat.         A2\n",
       "4         4   Le chat, le nouveau « meilleur ami de l'homme ».         A2\n",
       "...     ...                                                ...        ...\n",
       "8173    994  La vieille acquiesça de la tête, sous sa grand...         C2\n",
       "8174    995  Il fallait qu’il débitât les nouvelles apprise...         C2\n",
       "8175    996  Vous eussiez dit deux éclairs bleuâtres, parei...         C2\n",
       "8176    997  Elle dénoua le ruban qui attachait le manche d...         C2\n",
       "8177    998  Il y avait dans sa voix, dans son regard, dans...         C2\n",
       "\n",
       "[8178 rows x 3 columns]"
      ]
     },
     "execution_count": 18,
     "metadata": {},
     "output_type": "execute_result"
    }
   ],
   "source": [
    "dataset_test.reset_index(inplace)"
   ]
  },
  {
   "cell_type": "code",
   "execution_count": 13,
   "metadata": {},
   "outputs": [],
   "source": [
    "dataset_test = dataset_test.dropna()"
   ]
  },
  {
   "cell_type": "code",
   "execution_count": 14,
   "metadata": {},
   "outputs": [],
   "source": [
    "dataset_test.to_csv('./data/test-dataset.csv', index=False)"
   ]
  },
  {
   "cell_type": "code",
   "execution_count": null,
   "metadata": {},
   "outputs": [],
   "source": []
  }
 ],
 "metadata": {
  "kernelspec": {
   "display_name": "Python 3",
   "language": "python",
   "name": "python3"
  },
  "language_info": {
   "codemirror_mode": {
    "name": "ipython",
    "version": 3
   },
   "file_extension": ".py",
   "mimetype": "text/x-python",
   "name": "python",
   "nbconvert_exporter": "python",
   "pygments_lexer": "ipython3",
   "version": "3.8.5"
  }
 },
 "nbformat": 4,
 "nbformat_minor": 4
}
