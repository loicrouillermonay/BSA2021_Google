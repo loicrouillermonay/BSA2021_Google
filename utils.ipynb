{
 "cells": [
  {
   "cell_type": "code",
   "execution_count": 1,
   "metadata": {},
   "outputs": [],
   "source": [
    "import pandas as pd"
   ]
  },
  {
   "cell_type": "markdown",
   "metadata": {},
   "source": [
    "# Load data"
   ]
  },
  {
   "cell_type": "code",
   "execution_count": 2,
   "metadata": {},
   "outputs": [],
   "source": [
    "data_google = pd.read_excel('./data/Data French difficulty.xls', sheet_name='Google')\n",
    "data_amazon = pd.read_excel('./data/Data French difficulty.xls', sheet_name='Amazon')\n",
    "data_tesla = pd.read_excel('./data/Data French difficulty.xls', sheet_name='Tesla')\n",
    "data_orange = pd.read_excel('./data/Data French difficulty.xls', sheet_name='Orange')\n",
    "data_rolex = pd.read_excel('./data/Data French difficulty.xls', sheet_name='Rolex')\n",
    "data_samsung = pd.read_excel('./data/Data French difficulty.xls', sheet_name='Samsung')\n",
    "data_sbb = pd.read_excel('./data/Data French difficulty.xls', sheet_name='SBB')\n",
    "data_swisscom = pd.read_excel('./data/Data French difficulty.xls', sheet_name='Swisscom')\n",
    "data_ubs = pd.read_excel('./data/Data French difficulty.xls', sheet_name='UBS')"
   ]
  },
  {
   "cell_type": "markdown",
   "metadata": {},
   "source": [
    "# Team Google data as Train & Validation"
   ]
  },
  {
   "cell_type": "code",
   "execution_count": 3,
   "metadata": {},
   "outputs": [],
   "source": [
    "train_google_a1 = data_google[data_google['Difficulty'] == 'A1'].sample(frac = 0.9)\n",
    "validation_google_a1 = data_google[data_google['Difficulty'] == 'A1'].drop(train_google_a1.index)\n",
    "\n",
    "train_google_a2 = data_google[data_google['Difficulty'] == 'A2'].sample(frac = 0.9)\n",
    "validation_google_a2 = data_google[data_google['Difficulty'] == 'A2'].drop(train_google_a2.index)\n",
    "\n",
    "train_google_b1 = data_google[data_google['Difficulty'] == 'B1'].sample(frac = 0.9)\n",
    "validation_google_b1 = data_google[data_google['Difficulty'] == 'B1'].drop(train_google_b1.index)\n",
    "\n",
    "train_google_b2 = data_google[data_google['Difficulty'] == 'B2'].sample(frac = 0.9)\n",
    "validation_google_b2 = data_google[data_google['Difficulty'] == 'B2'].drop(train_google_b2.index)\n",
    "\n",
    "train_google_c1 = data_google[data_google['Difficulty'] == 'C1'].sample(frac = 0.9)\n",
    "validation_google_c1 = data_google[data_google['Difficulty'] == 'C1'].drop(train_google_c1.index)\n",
    "\n",
    "train_google_c2 = data_google[data_google['Difficulty'] == 'C2'].sample(frac = 0.9)\n",
    "validation_google_c2 = data_google[data_google['Difficulty'] == 'C2'].drop(train_google_c2.index)"
   ]
  },
  {
   "cell_type": "code",
   "execution_count": 4,
   "metadata": {},
   "outputs": [],
   "source": [
    "full_train_google = pd.concat([train_google_a1, train_google_a2, train_google_b1, train_google_b2, train_google_c1, train_google_c2])\n",
    "full_validation_google = pd.concat([validation_google_a1, validation_google_a2, validation_google_b1, validation_google_b2, validation_google_c1, validation_google_c2])"
   ]
  },
  {
   "cell_type": "code",
   "execution_count": 7,
   "metadata": {},
   "outputs": [
    {
     "data": {
      "text/plain": [
       "6"
      ]
     },
     "execution_count": 7,
     "metadata": {},
     "output_type": "execute_result"
    }
   ],
   "source": [
    "full_validation_google.Difficulty.nunique()"
   ]
  },
  {
   "cell_type": "code",
   "execution_count": 5,
   "metadata": {},
   "outputs": [],
   "source": [
    "full_train_google.to_csv('./data/train-dataset.csv', index=False)\n",
    "full_validation_google.to_csv('./data/validation-dataset.csv', index=False)"
   ]
  },
  {
   "cell_type": "markdown",
   "metadata": {},
   "source": [
    "# Other Teams as Test"
   ]
  },
  {
   "cell_type": "code",
   "execution_count": 8,
   "metadata": {},
   "outputs": [],
   "source": [
    "data_amazon = data_amazon[['Phrases', 'Type (Aleks)']]\n",
    "data_amazon = data_amazon.rename(columns={\"Phrases\": \"Text\", \"Type (Aleks)\": \"Difficulty\"})\n",
    "\n",
    "data_rolex = data_rolex[['Text', 'A0 Difficulty']]\n",
    "data_rolex = data_rolex.rename(columns={\"A0 Difficulty\": \"Difficulty\"})\n",
    "\n",
    "data_swisscom = data_swisscom[['Texte ', 'Difficulty']]\n",
    "data_swisscom = data_swisscom.rename(columns={\"Texte \": \"Text\"})\n",
    "\n",
    "data_tesla = data_tesla[['Text', 'Difficulty']]\n",
    "data_orange = data_orange[['Text', 'Difficulty']]\n",
    "data_rolex = data_rolex[['Text', 'Difficulty']]\n",
    "data_samsung = data_samsung[['Text', 'Difficulty']]\n",
    "data_sbb = data_sbb[['Text', 'Difficulty']]\n",
    "data_ubs = data_ubs[['Text', 'Difficulty']]"
   ]
  },
  {
   "cell_type": "code",
   "execution_count": 9,
   "metadata": {},
   "outputs": [],
   "source": [
    "dataset_test = pd.concat([data_amazon, data_rolex, data_swisscom, data_tesla, data_orange, data_rolex, data_samsung, data_sbb, data_ubs])"
   ]
  },
  {
   "cell_type": "code",
   "execution_count": 17,
   "metadata": {},
   "outputs": [],
   "source": [
    "dataset_test = dataset_test.dropna()\n",
    "dataset_test = dataset_test.drop(dataset_test[dataset_test.Difficulty == 'BW'].index)"
   ]
  },
  {
   "cell_type": "code",
   "execution_count": 20,
   "metadata": {},
   "outputs": [
    {
     "data": {
      "text/plain": [
       "array(['B2', 'C1', 'A2', 'B1', 'A1', 'C2', ' B1'], dtype=object)"
      ]
     },
     "execution_count": 20,
     "metadata": {},
     "output_type": "execute_result"
    }
   ],
   "source": [
    "dataset_test.Difficulty.unique()"
   ]
  },
  {
   "cell_type": "code",
   "execution_count": 14,
   "metadata": {},
   "outputs": [],
   "source": [
    "dataset_test.to_csv('./data/test-dataset.csv', index=False)"
   ]
  },
  {
   "cell_type": "code",
   "execution_count": null,
   "metadata": {},
   "outputs": [],
   "source": []
  }
 ],
 "metadata": {
  "kernelspec": {
   "display_name": "Python 3",
   "language": "python",
   "name": "python3"
  },
  "language_info": {
   "codemirror_mode": {
    "name": "ipython",
    "version": 3
   },
   "file_extension": ".py",
   "mimetype": "text/x-python",
   "name": "python",
   "nbconvert_exporter": "python",
   "pygments_lexer": "ipython3",
   "version": "3.8.5"
  }
 },
 "nbformat": 4,
 "nbformat_minor": 4
}
