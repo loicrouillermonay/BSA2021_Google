{
 "cells": [
  {
   "cell_type": "code",
   "execution_count": 4,
   "metadata": {},
   "outputs": [],
   "source": [
    "import pandas as pd"
   ]
  },
  {
   "cell_type": "code",
   "execution_count": 6,
   "metadata": {},
   "outputs": [],
   "source": [
    "dataset = pd.read_excel('./data/lingorank-data-google.xls')"
   ]
  },
  {
   "cell_type": "code",
   "execution_count": 7,
   "metadata": {},
   "outputs": [
    {
     "data": {
      "text/html": [
       "<div>\n",
       "<style scoped>\n",
       "    .dataframe tbody tr th:only-of-type {\n",
       "        vertical-align: middle;\n",
       "    }\n",
       "\n",
       "    .dataframe tbody tr th {\n",
       "        vertical-align: top;\n",
       "    }\n",
       "\n",
       "    .dataframe thead th {\n",
       "        text-align: right;\n",
       "    }\n",
       "</style>\n",
       "<table border=\"1\" class=\"dataframe\">\n",
       "  <thead>\n",
       "    <tr style=\"text-align: right;\">\n",
       "      <th></th>\n",
       "      <th>Text</th>\n",
       "      <th>Difficulty</th>\n",
       "    </tr>\n",
       "  </thead>\n",
       "  <tbody>\n",
       "    <tr>\n",
       "      <th>0</th>\n",
       "      <td>Je recherche une personne pour garder mes enfa...</td>\n",
       "      <td>A1</td>\n",
       "    </tr>\n",
       "    <tr>\n",
       "      <th>1</th>\n",
       "      <td>Il faut être disponible pour travailler les je...</td>\n",
       "      <td>A1</td>\n",
       "    </tr>\n",
       "    <tr>\n",
       "      <th>2</th>\n",
       "      <td>Vous devez habiter dans le centre de Limoges o...</td>\n",
       "      <td>A1</td>\n",
       "    </tr>\n",
       "    <tr>\n",
       "      <th>3</th>\n",
       "      <td>Expérience avec les enfants souhaitée.</td>\n",
       "      <td>A1</td>\n",
       "    </tr>\n",
       "    <tr>\n",
       "      <th>4</th>\n",
       "      <td>Si vous êtes intéressé, appelez-moi.</td>\n",
       "      <td>A1</td>\n",
       "    </tr>\n",
       "    <tr>\n",
       "      <th>...</th>\n",
       "      <td>...</td>\n",
       "      <td>...</td>\n",
       "    </tr>\n",
       "    <tr>\n",
       "      <th>1015</th>\n",
       "      <td>En tout cas, l'absence d'équipement informatiq...</td>\n",
       "      <td>C2</td>\n",
       "    </tr>\n",
       "    <tr>\n",
       "      <th>1016</th>\n",
       "      <td>On en trouve des exemples dans l'ouvrage \"L'in...</td>\n",
       "      <td>C2</td>\n",
       "    </tr>\n",
       "    <tr>\n",
       "      <th>1017</th>\n",
       "      <td>De même, on peut travailler des concepts issus...</td>\n",
       "      <td>C2</td>\n",
       "    </tr>\n",
       "    <tr>\n",
       "      <th>1018</th>\n",
       "      <td>Par exemple, on peut aborder la notion d'algor...</td>\n",
       "      <td>C2</td>\n",
       "    </tr>\n",
       "    <tr>\n",
       "      <th>1019</th>\n",
       "      <td>On est loin du bachotage de code HTML et de la...</td>\n",
       "      <td>C2</td>\n",
       "    </tr>\n",
       "  </tbody>\n",
       "</table>\n",
       "<p>1020 rows × 2 columns</p>\n",
       "</div>"
      ],
      "text/plain": [
       "                                                   Text Difficulty\n",
       "0     Je recherche une personne pour garder mes enfa...         A1\n",
       "1     Il faut être disponible pour travailler les je...         A1\n",
       "2     Vous devez habiter dans le centre de Limoges o...         A1\n",
       "3                Expérience avec les enfants souhaitée.         A1\n",
       "4                  Si vous êtes intéressé, appelez-moi.         A1\n",
       "...                                                 ...        ...\n",
       "1015  En tout cas, l'absence d'équipement informatiq...         C2\n",
       "1016  On en trouve des exemples dans l'ouvrage \"L'in...         C2\n",
       "1017  De même, on peut travailler des concepts issus...         C2\n",
       "1018  Par exemple, on peut aborder la notion d'algor...         C2\n",
       "1019  On est loin du bachotage de code HTML et de la...         C2\n",
       "\n",
       "[1020 rows x 2 columns]"
      ]
     },
     "execution_count": 7,
     "metadata": {},
     "output_type": "execute_result"
    }
   ],
   "source": [
    "dataset"
   ]
  },
  {
   "cell_type": "code",
   "execution_count": 17,
   "metadata": {},
   "outputs": [],
   "source": [
    "dataset.to_csv('./data/lingorank-google.csv')"
   ]
  },
  {
   "cell_type": "code",
   "execution_count": 22,
   "metadata": {},
   "outputs": [],
   "source": [
    "dataset.Text = dataset.Text.apply(lambda x: x.strip())"
   ]
  },
  {
   "cell_type": "code",
   "execution_count": 35,
   "metadata": {},
   "outputs": [],
   "source": [
    "dataset.to_csv('./data/lingorank-data-google.csv', index=False)"
   ]
  },
  {
   "cell_type": "code",
   "execution_count": 34,
   "metadata": {},
   "outputs": [],
   "source": [
    "dataset[dataset.Difficulty == 'A1'].to_csv('./data/lingorank-data-google-a1.txt', index=False)\n",
    "dataset[dataset.Difficulty == 'A2'].to_csv('./data/lingorank-data-google-a2.txt', index=False)\n",
    "dataset[dataset.Difficulty == 'B1'].to_csv('./data/lingorank-data-google-b1.txt', index=False)\n",
    "dataset[dataset.Difficulty == 'B2']['Text'].to_csv('./data/lingorank-data-google-b2.txt', index=False)\n",
    "dataset[dataset.Difficulty == 'C1']['Text'].to_csv('./data/lingorank-data-google-c1.txt', index=False)\n",
    "dataset[dataset.Difficulty == 'C2']['Text'].to_csv('./data/lingorank-data-google-c2.txt', index=False)"
   ]
  },
  {
   "cell_type": "code",
   "execution_count": null,
   "metadata": {},
   "outputs": [],
   "source": []
  }
 ],
 "metadata": {
  "kernelspec": {
   "display_name": "Python 3",
   "language": "python",
   "name": "python3"
  },
  "language_info": {
   "codemirror_mode": {
    "name": "ipython",
    "version": 3
   },
   "file_extension": ".py",
   "mimetype": "text/x-python",
   "name": "python",
   "nbconvert_exporter": "python",
   "pygments_lexer": "ipython3",
   "version": "3.8.5"
  }
 },
 "nbformat": 4,
 "nbformat_minor": 4
}
