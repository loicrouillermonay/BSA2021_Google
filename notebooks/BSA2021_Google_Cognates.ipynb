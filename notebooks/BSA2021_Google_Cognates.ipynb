{
  "nbformat": 4,
  "nbformat_minor": 0,
  "metadata": {
    "colab": {
      "name": "BSA2021_Google_Cognates.ipynb",
      "provenance": [],
      "collapsed_sections": []
    },
    "kernelspec": {
      "name": "python3",
      "display_name": "Python 3"
    },
    "language_info": {
      "name": "python"
    }
  },
  "cells": [
    {
      "cell_type": "code",
      "metadata": {
        "id": "4PBxxyEIac5B"
      },
      "source": [
        "!pip install google-cloud-translate==2.0.1"
      ],
      "execution_count": null,
      "outputs": []
    },
    {
      "cell_type": "code",
      "metadata": {
        "id": "PAIu-H0tjL4n"
      },
      "source": [
        "# https://itnext.io/string-similarity-the-basic-know-your-algorithms-guide-3de3d7346227\n",
        "!pip install textdistance"
      ],
      "execution_count": null,
      "outputs": []
    },
    {
      "cell_type": "code",
      "metadata": {
        "id": "mbAlw3G-jImF"
      },
      "source": [
        "import pandas as pd\n",
        "import textdistance\n",
        "\n",
        "# Translate API\n",
        "from googleapiclient.discovery import build\n",
        "service = build('translate', 'v2', developerKey='THE_API_KEY')"
      ],
      "execution_count": 9,
      "outputs": []
    },
    {
      "cell_type": "code",
      "metadata": {
        "id": "14iAT3KtaMxl"
      },
      "source": [
        "data = pd.read_csv('/content/max-dataset.csv')"
      ],
      "execution_count": 11,
      "outputs": []
    },
    {
      "cell_type": "code",
      "metadata": {
        "id": "aZ2mZGHYns4H"
      },
      "source": [
        "data.loc[0, 'Text_english_translation'] = 'test'"
      ],
      "execution_count": 24,
      "outputs": []
    },
    {
      "cell_type": "code",
      "metadata": {
        "id": "PEIcZcJlaUSw"
      },
      "source": [
        "for index, row in data.iterrows():\n",
        "    result = service.translations().list(source='fr', target='en', q=row.loc['Text']).execute()\n",
        "    data.loc[index, 'Text_english_translation'] = result['translations'][0]['translatedText']"
      ],
      "execution_count": 30,
      "outputs": []
    },
    {
      "cell_type": "code",
      "metadata": {
        "id": "kczcYVOjbLPh",
        "colab": {
          "base_uri": "https://localhost:8080/",
          "height": 419
        },
        "outputId": "d85f695a-4966-4553-d9a4-88444622f161"
      },
      "source": [
        "data"
      ],
      "execution_count": 32,
      "outputs": [
        {
          "output_type": "execute_result",
          "data": {
            "text/html": [
              "<div>\n",
              "<style scoped>\n",
              "    .dataframe tbody tr th:only-of-type {\n",
              "        vertical-align: middle;\n",
              "    }\n",
              "\n",
              "    .dataframe tbody tr th {\n",
              "        vertical-align: top;\n",
              "    }\n",
              "\n",
              "    .dataframe thead th {\n",
              "        text-align: right;\n",
              "    }\n",
              "</style>\n",
              "<table border=\"1\" class=\"dataframe\">\n",
              "  <thead>\n",
              "    <tr style=\"text-align: right;\">\n",
              "      <th></th>\n",
              "      <th>Text</th>\n",
              "      <th>Difficulty</th>\n",
              "      <th>Text_english_translation</th>\n",
              "    </tr>\n",
              "  </thead>\n",
              "  <tbody>\n",
              "    <tr>\n",
              "      <th>0</th>\n",
              "      <td>Je recherche une personne pour garder mes enfa...</td>\n",
              "      <td>A1</td>\n",
              "      <td>I am looking for a person to look after my chi...</td>\n",
              "    </tr>\n",
              "    <tr>\n",
              "      <th>1</th>\n",
              "      <td>Il faut être disponible pour travailler les je...</td>\n",
              "      <td>A1</td>\n",
              "      <td>You must be available to work Thursday, Friday...</td>\n",
              "    </tr>\n",
              "    <tr>\n",
              "      <th>2</th>\n",
              "      <td>Vous devez habiter dans le centre de Limoges o...</td>\n",
              "      <td>A1</td>\n",
              "      <td>You must live in the center of Limoges or have...</td>\n",
              "    </tr>\n",
              "    <tr>\n",
              "      <th>3</th>\n",
              "      <td>Expérience avec les enfants souhaitée.</td>\n",
              "      <td>A1</td>\n",
              "      <td>Experience with children desired.</td>\n",
              "    </tr>\n",
              "    <tr>\n",
              "      <th>4</th>\n",
              "      <td>Si vous êtes intéressé, appelez-moi.</td>\n",
              "      <td>A1</td>\n",
              "      <td>If you are interested, give me a call.</td>\n",
              "    </tr>\n",
              "    <tr>\n",
              "      <th>...</th>\n",
              "      <td>...</td>\n",
              "      <td>...</td>\n",
              "      <td>...</td>\n",
              "    </tr>\n",
              "    <tr>\n",
              "      <th>9169</th>\n",
              "      <td>La vieille acquiesça de la tête, sous sa grand...</td>\n",
              "      <td>C2</td>\n",
              "      <td>The old woman nodded, under her large old-fash...</td>\n",
              "    </tr>\n",
              "    <tr>\n",
              "      <th>9170</th>\n",
              "      <td>Il fallait qu’il débitât les nouvelles apprise...</td>\n",
              "      <td>C2</td>\n",
              "      <td>He had to spread the news he learned from one ...</td>\n",
              "    </tr>\n",
              "    <tr>\n",
              "      <th>9171</th>\n",
              "      <td>Vous eussiez dit deux éclairs bleuâtres, parei...</td>\n",
              "      <td>C2</td>\n",
              "      <td>You would have said two bluish flashes, like t...</td>\n",
              "    </tr>\n",
              "    <tr>\n",
              "      <th>9172</th>\n",
              "      <td>Elle dénoua le ruban qui attachait le manche d...</td>\n",
              "      <td>C2</td>\n",
              "      <td>She untied the ribbon that tied the handle of ...</td>\n",
              "    </tr>\n",
              "    <tr>\n",
              "      <th>9173</th>\n",
              "      <td>Il y avait dans sa voix, dans son regard, dans...</td>\n",
              "      <td>C2</td>\n",
              "      <td>There was in her voice, in her gaze, in her ge...</td>\n",
              "    </tr>\n",
              "  </tbody>\n",
              "</table>\n",
              "<p>9174 rows × 3 columns</p>\n",
              "</div>"
            ],
            "text/plain": [
              "                                                   Text  ...                           Text_english_translation\n",
              "0     Je recherche une personne pour garder mes enfa...  ...  I am looking for a person to look after my chi...\n",
              "1     Il faut être disponible pour travailler les je...  ...  You must be available to work Thursday, Friday...\n",
              "2     Vous devez habiter dans le centre de Limoges o...  ...  You must live in the center of Limoges or have...\n",
              "3                Expérience avec les enfants souhaitée.  ...                  Experience with children desired.\n",
              "4                  Si vous êtes intéressé, appelez-moi.  ...             If you are interested, give me a call.\n",
              "...                                                 ...  ...                                                ...\n",
              "9169  La vieille acquiesça de la tête, sous sa grand...  ...  The old woman nodded, under her large old-fash...\n",
              "9170  Il fallait qu’il débitât les nouvelles apprise...  ...  He had to spread the news he learned from one ...\n",
              "9171  Vous eussiez dit deux éclairs bleuâtres, parei...  ...  You would have said two bluish flashes, like t...\n",
              "9172  Elle dénoua le ruban qui attachait le manche d...  ...  She untied the ribbon that tied the handle of ...\n",
              "9173  Il y avait dans sa voix, dans son regard, dans...  ...  There was in her voice, in her gaze, in her ge...\n",
              "\n",
              "[9174 rows x 3 columns]"
            ]
          },
          "metadata": {
            "tags": []
          },
          "execution_count": 32
        }
      ]
    },
    {
      "cell_type": "code",
      "metadata": {
        "id": "qtTNYY6Uh4Ge"
      },
      "source": [
        "data.to_csv('max-dataset-with-translation.csv', index = False)"
      ],
      "execution_count": 31,
      "outputs": []
    },
    {
      "cell_type": "code",
      "metadata": {
        "id": "R4Itbk9RjhBG"
      },
      "source": [
        "for index, row in data.iterrows():\n",
        "    data.loc[index, 'hamming'] = textdistance.hamming(row['Text'], row['Text_english_translation'])\n",
        "    data.loc[index, 'hamming_normalized_similarity'] = textdistance.hamming.normalized_similarity(row['Text'], row['Text_english_translation'])\n",
        "    data.loc[index, 'levenshtein'] = textdistance.levenshtein(row['Text'], row['Text_english_translation'])\n",
        "    data.loc[index, 'levenshtein_normalized_similarity'] = textdistance.levenshtein.normalized_similarity(row['Text'], row['Text_english_translation'])\n",
        "    data.loc[index, 'jaro_winkler'] = textdistance.jaro_winkler(row['Text'], row['Text_english_translation'])\n",
        "\n",
        "    tokens_1 = row['Text'].split()\n",
        "    tokens_2 = row['Text_english_translation'].split()\n",
        "    data.loc[index, 'jaccard'] = textdistance.jaccard(tokens_1 , tokens_2)\n",
        "    data.loc[index, 'sorensen'] = textdistance.sorensen(tokens_1 , tokens_2)\n"
      ],
      "execution_count": 35,
      "outputs": []
    },
    {
      "cell_type": "code",
      "metadata": {
        "colab": {
          "base_uri": "https://localhost:8080/",
          "height": 615
        },
        "id": "BShYG9FaymJy",
        "outputId": "96258508-65c8-41b9-ec95-2e9548ab3ed1"
      },
      "source": [
        "data.head(5)"
      ],
      "execution_count": 37,
      "outputs": [
        {
          "output_type": "execute_result",
          "data": {
            "text/html": [
              "<div>\n",
              "<style scoped>\n",
              "    .dataframe tbody tr th:only-of-type {\n",
              "        vertical-align: middle;\n",
              "    }\n",
              "\n",
              "    .dataframe tbody tr th {\n",
              "        vertical-align: top;\n",
              "    }\n",
              "\n",
              "    .dataframe thead th {\n",
              "        text-align: right;\n",
              "    }\n",
              "</style>\n",
              "<table border=\"1\" class=\"dataframe\">\n",
              "  <thead>\n",
              "    <tr style=\"text-align: right;\">\n",
              "      <th></th>\n",
              "      <th>Text</th>\n",
              "      <th>Difficulty</th>\n",
              "      <th>Text_english_translation</th>\n",
              "      <th>hamming</th>\n",
              "      <th>hamming_normalized_similarity</th>\n",
              "      <th>levenshtein</th>\n",
              "      <th>levenshtein_normalized_similarity</th>\n",
              "      <th>jaro_winkler</th>\n",
              "      <th>jaccard</th>\n",
              "      <th>sorensen</th>\n",
              "    </tr>\n",
              "  </thead>\n",
              "  <tbody>\n",
              "    <tr>\n",
              "      <th>0</th>\n",
              "      <td>Je recherche une personne pour garder mes enfa...</td>\n",
              "      <td>A1</td>\n",
              "      <td>I am looking for a person to look after my chi...</td>\n",
              "      <td>68</td>\n",
              "      <td>0.068493</td>\n",
              "      <td>48</td>\n",
              "      <td>0.342466</td>\n",
              "      <td>0.625040</td>\n",
              "      <td>0.071429</td>\n",
              "      <td>0.133333</td>\n",
              "    </tr>\n",
              "    <tr>\n",
              "      <th>1</th>\n",
              "      <td>Il faut être disponible pour travailler les je...</td>\n",
              "      <td>A1</td>\n",
              "      <td>You must be available to work Thursday, Friday...</td>\n",
              "      <td>91</td>\n",
              "      <td>0.042105</td>\n",
              "      <td>71</td>\n",
              "      <td>0.252632</td>\n",
              "      <td>0.647556</td>\n",
              "      <td>0.000000</td>\n",
              "      <td>0.000000</td>\n",
              "    </tr>\n",
              "    <tr>\n",
              "      <th>2</th>\n",
              "      <td>Vous devez habiter dans le centre de Limoges o...</td>\n",
              "      <td>A1</td>\n",
              "      <td>You must live in the center of Limoges or have...</td>\n",
              "      <td>62</td>\n",
              "      <td>0.060606</td>\n",
              "      <td>35</td>\n",
              "      <td>0.469697</td>\n",
              "      <td>0.702791</td>\n",
              "      <td>0.043478</td>\n",
              "      <td>0.083333</td>\n",
              "    </tr>\n",
              "    <tr>\n",
              "      <th>3</th>\n",
              "      <td>Expérience avec les enfants souhaitée.</td>\n",
              "      <td>A1</td>\n",
              "      <td>Experience with children desired.</td>\n",
              "      <td>27</td>\n",
              "      <td>0.289474</td>\n",
              "      <td>23</td>\n",
              "      <td>0.394737</td>\n",
              "      <td>0.675173</td>\n",
              "      <td>0.000000</td>\n",
              "      <td>0.000000</td>\n",
              "    </tr>\n",
              "    <tr>\n",
              "      <th>4</th>\n",
              "      <td>Si vous êtes intéressé, appelez-moi.</td>\n",
              "      <td>A1</td>\n",
              "      <td>If you are interested, give me a call.</td>\n",
              "      <td>34</td>\n",
              "      <td>0.105263</td>\n",
              "      <td>23</td>\n",
              "      <td>0.394737</td>\n",
              "      <td>0.578504</td>\n",
              "      <td>0.000000</td>\n",
              "      <td>0.000000</td>\n",
              "    </tr>\n",
              "  </tbody>\n",
              "</table>\n",
              "</div>"
            ],
            "text/plain": [
              "                                                Text  ...  sorensen\n",
              "0  Je recherche une personne pour garder mes enfa...  ...  0.133333\n",
              "1  Il faut être disponible pour travailler les je...  ...  0.000000\n",
              "2  Vous devez habiter dans le centre de Limoges o...  ...  0.083333\n",
              "3             Expérience avec les enfants souhaitée.  ...  0.000000\n",
              "4               Si vous êtes intéressé, appelez-moi.  ...  0.000000\n",
              "\n",
              "[5 rows x 10 columns]"
            ]
          },
          "metadata": {
            "tags": []
          },
          "execution_count": 37
        }
      ]
    },
    {
      "cell_type": "code",
      "metadata": {
        "id": "JszzXcGJlNmB"
      },
      "source": [
        "data.to_csv('max-dataset-with-translation-and-cognates.csv', index = False)"
      ],
      "execution_count": 36,
      "outputs": []
    },
    {
      "cell_type": "code",
      "metadata": {
        "id": "ZPqfATRH1MHI"
      },
      "source": [
        ""
      ],
      "execution_count": null,
      "outputs": []
    }
  ]
}